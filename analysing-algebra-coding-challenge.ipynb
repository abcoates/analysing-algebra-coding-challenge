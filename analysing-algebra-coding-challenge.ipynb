{
 "cells": [
  {
   "attachments": {},
   "cell_type": "markdown",
   "metadata": {},
   "source": [
    "# analysing-algebra-coding-challenge\n",
    "A coding challenge around implementing a command-line RPN calculator, and then converting algebraic expressions into RPN format for calculation.\n",
    "\n",
    "## Core Challenge\n",
    "Reverse Polish Notation (RPN) is a way of encoding algebra that was made most famous by HP (Hewlett Packard as was) calculators.  For the purposes of this challenge, an RPN expression is a set of lines of text containing whitespace-separated tokens.  The tokens can be either a decimal number or one of the four arithmetic operators '+' (plus), '-' (minus), '*' (times or multiplied by) or '/' (divided by).\n",
    "\n",
    "When the token is a decimal number, it is pushed onto a stack.  When the token is an arithmetic, the two most recent entries on the stack are removed from the stack, the operator is applied to them, and then the result is pushed onto the stack.\n",
    "\n",
    "When a new line is encountered, or when the end of the last line is encountered, the contents of the stack should be printed out, from oldest entry to newest.\n",
    "\n",
    "Implement a command-line RPN calculator as described above.\n",
    "\n",
    "### Examples\n",
    "* ```\"3 5\"``` is printed out as: ```3 5```\n",
    "* ```\"2.2 3.3 +\"``` is printed out as: ```5.5```\n",
    "* ```\"2 -5 -\"``` is printed out as: ```7```\n",
    "* ```\"8 6 + 4 *\"``` is printed out as: ```56```\n",
    "* ```\"3 5 + 3 1 + *\"``` is printed out as: ```32```\n",
    "* ```\"9 9 + 3 /\"``` is printed out as: ```6```\n",
    "* ```\"5 2 /\"``` is printed out as: ```2.5```\n",
    "\n",
    "It is an error if there are fewer than two numbers in the stack when an arithmetic operator is encountered, and it is an error to divide by zero."
   ]
  },
  {
   "attachments": {},
   "cell_type": "markdown",
   "metadata": {
    "dotnet_interactive": {
     "language": "csharp"
    },
    "polyglot_notebook": {
     "kernelName": "csharp"
    }
   },
   "source": [
    "### Solution to Core Challenge"
   ]
  },
  {
   "attachments": {},
   "cell_type": "markdown",
   "metadata": {
    "dotnet_interactive": {
     "language": "csharp"
    },
    "polyglot_notebook": {
     "kernelName": "csharp"
    }
   },
   "source": [
    "The RPN algebraic format is simple enough that we can write the parsing code directly, without needing to use a parser libary.\n",
    "\n",
    "Here it is convenient to use F#'s 'Active Patterns', that provide for rich pattern matching."
   ]
  },
  {
   "cell_type": "code",
   "execution_count": 1,
   "metadata": {
    "dotnet_interactive": {
     "language": "fsharp"
    },
    "polyglot_notebook": {
     "kernelName": "fsharp"
    }
   },
   "outputs": [],
   "source": [
    "let (|Number|_|) (str: string) =\n",
    "   let mutable floatvalue = 0.0\n",
    "   if System.Double.TryParse(str, &floatvalue) then Some(floatvalue)\n",
    "   else None"
   ]
  },
  {
   "cell_type": "code",
   "execution_count": 4,
   "metadata": {
    "dotnet_interactive": {
     "language": "fsharp"
    },
    "polyglot_notebook": {
     "kernelName": "fsharp"
    }
   },
   "outputs": [],
   "source": [
    "let (|Operator|_|) (str: string): char option =\n",
    "    match str with\n",
    "    | \"+\" | \"-\" | \"*\" | \"/\" -> Some(str.[0])\n",
    "    | unknown -> None"
   ]
  },
  {
   "cell_type": "code",
   "execution_count": 7,
   "metadata": {
    "dotnet_interactive": {
     "language": "fsharp"
    },
    "polyglot_notebook": {
     "kernelName": "fsharp"
    }
   },
   "outputs": [],
   "source": [
    "type Stack = double list\n",
    "\n",
    "let toStackString (stack:Stack) =\n",
    "    sprintf \"%s\" (stack |> List.rev |> List.map (fun (dbl) -> dbl.ToString()) |> List.toSeq |> String.concat \" \")\n",
    "\n",
    "let printStack (stack:Stack) =\n",
    "    printfn \"%s\" (toStackString stack)"
   ]
  },
  {
   "cell_type": "code",
   "execution_count": 37,
   "metadata": {
    "dotnet_interactive": {
     "language": "fsharp"
    },
    "polyglot_notebook": {
     "kernelName": "fsharp"
    }
   },
   "outputs": [],
   "source": [
    "open System.Text.RegularExpressions\n",
    "\n",
    "// Process single token\n",
    "let rpntoken (stack: Stack) (token: string): Stack =\n",
    "    match token with\n",
    "    | Number dbl -> dbl::stack\n",
    "    | Operator op ->\n",
    "        match stack with\n",
    "        | op2::op1::tail ->\n",
    "            match op with\n",
    "            | '+' -> (op1+op2)::tail\n",
    "            | '-' -> (op1-op2)::tail\n",
    "            | '*' -> (op1*op2)::tail\n",
    "            | '/' ->\n",
    "                match op2 with\n",
    "                | 0. -> failwith (sprintf \"Tried to divide by zero => %s\" (toStackString stack))\n",
    "                | nonzero -> (op1/op2)::tail\n",
    "        | toofewelements -> failwith (sprintf \"Too few elements on stack for %c => %s\" op (toStackString stack))\n",
    "    | unknown -> failwith (sprintf \"Unrecognised token: %s => %s\" unknown (toStackString stack))\n",
    "\n",
    "// Single-line RPN calculation\n",
    "let rpncalc1 (stack: Stack) (singlelinestr: string): Stack =\n",
    "    let result = (\n",
    "        Regex.Matches(singlelinestr, @\"\\S+\") |>\n",
    "        Seq.map(fun (mtch) -> mtch.ToString()) |>\n",
    "        Seq.fold rpntoken stack\n",
    "    )\n",
    "    do printStack result\n",
    "    result"
   ]
  },
  {
   "cell_type": "code",
   "execution_count": 56,
   "metadata": {
    "dotnet_interactive": {
     "language": "fsharp"
    },
    "polyglot_notebook": {
     "kernelName": "fsharp"
    }
   },
   "outputs": [],
   "source": [
    "let rpncalc (multilinestr: string) =\n",
    "    ignore (multilinestr.Split(\"\\n\") |> Seq.filter(fun (s) -> s.Length > 0) |> Seq.fold rpncalc1 [])"
   ]
  },
  {
   "attachments": {},
   "cell_type": "markdown",
   "metadata": {
    "dotnet_interactive": {
     "language": "fsharp"
    },
    "polyglot_notebook": {
     "kernelName": "fsharp"
    }
   },
   "source": [
    "### Test the Solution"
   ]
  },
  {
   "cell_type": "code",
   "execution_count": 57,
   "metadata": {
    "dotnet_interactive": {
     "language": "fsharp"
    },
    "polyglot_notebook": {
     "kernelName": "fsharp"
    }
   },
   "outputs": [
    {
     "name": "stdout",
     "output_type": "stream",
     "text": [
      "3 5\n"
     ]
    }
   ],
   "source": [
    "ignore (rpncalc \"3 5\") // 3 5"
   ]
  },
  {
   "cell_type": "code",
   "execution_count": 58,
   "metadata": {
    "dotnet_interactive": {
     "language": "fsharp"
    },
    "polyglot_notebook": {
     "kernelName": "fsharp"
    }
   },
   "outputs": [
    {
     "name": "stdout",
     "output_type": "stream",
     "text": [
      "5.5\n"
     ]
    }
   ],
   "source": [
    "ignore (rpncalc \"2.2 3.3 +\") // 5.5"
   ]
  },
  {
   "cell_type": "code",
   "execution_count": 59,
   "metadata": {
    "dotnet_interactive": {
     "language": "fsharp"
    },
    "polyglot_notebook": {
     "kernelName": "fsharp"
    }
   },
   "outputs": [
    {
     "name": "stdout",
     "output_type": "stream",
     "text": [
      "7\n"
     ]
    }
   ],
   "source": [
    "ignore (rpncalc \"2 -5 -\") // 7"
   ]
  },
  {
   "cell_type": "code",
   "execution_count": 60,
   "metadata": {
    "dotnet_interactive": {
     "language": "fsharp"
    },
    "polyglot_notebook": {
     "kernelName": "fsharp"
    }
   },
   "outputs": [
    {
     "name": "stdout",
     "output_type": "stream",
     "text": [
      "56\n"
     ]
    }
   ],
   "source": [
    "ignore (rpncalc \"8 6 + 4 *\") // 56"
   ]
  },
  {
   "cell_type": "code",
   "execution_count": 61,
   "metadata": {
    "dotnet_interactive": {
     "language": "fsharp"
    },
    "polyglot_notebook": {
     "kernelName": "fsharp"
    }
   },
   "outputs": [
    {
     "name": "stdout",
     "output_type": "stream",
     "text": [
      "32\n"
     ]
    }
   ],
   "source": [
    "ignore (rpncalc \"3 5 + 3 1 + *\") // 32"
   ]
  },
  {
   "cell_type": "code",
   "execution_count": 62,
   "metadata": {
    "dotnet_interactive": {
     "language": "fsharp"
    },
    "polyglot_notebook": {
     "kernelName": "fsharp"
    }
   },
   "outputs": [
    {
     "name": "stdout",
     "output_type": "stream",
     "text": [
      "6\n"
     ]
    }
   ],
   "source": [
    "ignore (rpncalc \"9 9 + 3 /\") // 6"
   ]
  },
  {
   "cell_type": "code",
   "execution_count": 63,
   "metadata": {
    "dotnet_interactive": {
     "language": "fsharp"
    },
    "polyglot_notebook": {
     "kernelName": "fsharp"
    }
   },
   "outputs": [
    {
     "name": "stdout",
     "output_type": "stream",
     "text": [
      "2.5\n"
     ]
    }
   ],
   "source": [
    "ignore (rpncalc \"5 2 /\") // 2.5"
   ]
  },
  {
   "cell_type": "code",
   "execution_count": 64,
   "metadata": {
    "dotnet_interactive": {
     "language": "fsharp"
    },
    "polyglot_notebook": {
     "kernelName": "fsharp"
    }
   },
   "outputs": [
    {
     "name": "stdout",
     "output_type": "stream",
     "text": [
      "\n",
      "3 5\n",
      "8\n",
      "32\n",
      "32 8\n",
      "4\n"
     ]
    }
   ],
   "source": [
    "ignore (rpncalc \"\"\"\n",
    "3 5\n",
    "+\n",
    "4 *\n",
    "5 3 +\n",
    "/\n",
    "\"\"\")"
   ]
  },
  {
   "attachments": {},
   "cell_type": "markdown",
   "metadata": {
    "dotnet_interactive": {
     "language": "csharp"
    },
    "polyglot_notebook": {
     "kernelName": "csharp"
    }
   },
   "source": [
    "\n",
    "## Stretch Challenge\n",
    "The more common way to write arithmetic expressions is with numbers, operators and also parentheses, e.g.\n",
    "* (2+3) * (4*5)\n",
    "* (10/5)*5\n",
    "* 10/(5*5)\n",
    "\n",
    "Write a command-line converter that converts arbitrary arithmetic expressions into RPN expressions."
   ]
  },
  {
   "cell_type": "code",
   "execution_count": null,
   "metadata": {
    "dotnet_interactive": {
     "language": "fsharp"
    },
    "polyglot_notebook": {
     "kernelName": "fsharp"
    }
   },
   "outputs": [],
   "source": []
  }
 ],
 "metadata": {
  "kernelspec": {
   "display_name": ".NET (C#)",
   "language": "C#",
   "name": ".net-csharp"
  },
  "polyglot_notebook": {
   "kernelInfo": {
    "defaultKernelName": "csharp",
    "items": [
     {
      "aliases": [
       "c#",
       "C#"
      ],
      "languageName": "C#",
      "name": "csharp"
     },
     {
      "aliases": [
       "frontend"
      ],
      "languageName": null,
      "name": "vscode"
     }
    ]
   }
  }
 },
 "nbformat": 4,
 "nbformat_minor": 2
}
